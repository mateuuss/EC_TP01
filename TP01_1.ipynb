{
 "cells": [
  {
   "cell_type": "markdown",
   "metadata": {},
   "source": [
    "**GRUPO 16 - Exercício 1**\n",
    "\n",
    "Para a realização desse exercício, foi utilizado os módulos *BiConn.py* e *Auxs.py* encontrados no material da disciplina e foi utilizado como base o script disponibilizado também no material.  \n",
    "\n",
    "Após gerado os parâmetros para o acordo de chave **Diffie-Hellman** e para o esquema de assinatura **DSA**, foi criada uma função para gerar *nonces* aleatórios e garantir que estes *nonces* não tenham sido utilizados anteriormente e outra função para autenticar as chaves geradas utilizando **HMAC**."
   ]
  },
  {
   "cell_type": "code",
   "execution_count": 1,
   "metadata": {},
   "outputs": [],
   "source": [
    "import os\n",
    "import io\n",
    "from cryptography.hazmat.backends import default_backend\n",
    "from cryptography.hazmat.primitives import hashes, hmac, serialization\n",
    "from cryptography.hazmat.primitives.asymmetric import dh, dsa\n",
    "from cryptography.hazmat.primitives.ciphers import Cipher, algorithms, modes\n",
    "from cryptography.exceptions import *\n",
    "from BiConn import BiConn\n",
    "from Auxs import hashs\n",
    "\n",
    "# Generate some Diffie Hellman parameters.\n",
    "parameters_dh = dh.generate_parameters(generator=2, key_size=1024,\n",
    "                                       backend=default_backend())\n",
    "\n",
    "# Generate some DSA parameters\n",
    "parameters_dsa = dsa.generate_parameters(key_size=1024,\n",
    "                                         backend=default_backend())\n",
    "\n",
    "# seleciona-se um dos vários algorimos implementados na package\n",
    "default_algorithm = hashes.SHA256"
   ]
  },
  {
   "cell_type": "markdown",
   "metadata": {},
   "source": [
    "Para cifrar a comunicação entre os agentes, foi implementada a cifra **AES** no modo **Cipher Feedback** (CFB), por ter sido considerada a mais segura contra ataques ao *initialization vector* (IV). Pois o primeiro bloco cifrado no **CFB** é definido por $C_{0}=E_{k}(IV)⊕P_{0}$ e mesmo se um atacante tiver acesso ao IV antecipadamente, tudo que ele saberá será o valor do primeiro bloco e não poderá interferir nos blocos subsequentes, desde que o IV não seja utilizado mais de uma vez, o que foi assegurado com a implementação do *nonce*."
   ]
  },
  {
   "cell_type": "code",
   "execution_count": 2,
   "metadata": {},
   "outputs": [],
   "source": [
    "nonce_list = list()\n",
    "\n",
    "\n",
    "# Gerar um nonce\n",
    "def get_nonce():\n",
    "\n",
    "    nonce = os.urandom(16)\n",
    "\n",
    "    while nonce in nonce_list:\n",
    "        nonce = os.urandom(16)\n",
    "    nonce_list.append(nonce)\n",
    "\n",
    "    return nonce\n",
    "\n",
    "\n",
    "def my_mac(key):\n",
    "    return hmac.HMAC(key, default_algorithm(), default_backend())"
   ]
  },
  {
   "cell_type": "code",
   "execution_count": 3,
   "metadata": {},
   "outputs": [],
   "source": [
    "def dh_dsa(conn):\n",
    "    # Gerar chaves DH\n",
    "    pk_dh = parameters_dh.generate_private_key()\n",
    "    pub_dh = pk_dh.public_key().public_bytes(\n",
    "                encoding=serialization.Encoding.PEM,\n",
    "                format=serialization.PublicFormat.SubjectPublicKeyInfo)\n",
    "\n",
    "    # Gerar chaves DSA\n",
    "    pk_dsa = parameters_dsa.generate_private_key()\n",
    "    pub_dsa = pk_dsa.public_key().public_bytes(\n",
    "                encoding=serialization.Encoding.PEM,\n",
    "                format=serialization.PublicFormat.SubjectPublicKeyInfo)\n",
    "\n",
    "    # Enviar a chave pública DSA\n",
    "    conn.send(pub_dsa)\n",
    "\n",
    "    # Cálculo da assinatura DSA\n",
    "    signature_dsa = pk_dsa.sign(pub_dh, hashes.SHA256())\n",
    "\n",
    "    # Receber chave pública DSA\n",
    "    peer_pub_dsa = serialization.load_pem_public_key(\n",
    "                    conn.recv(),\n",
    "                    backend=default_backend())\n",
    "\n",
    "    # Enviar chave pública DH e assinatura DSA\n",
    "    conn.send(pub_dh)\n",
    "    conn.send(signature_dsa)\n",
    "\n",
    "    # Verificar assinatura DSA\n",
    "    try:\n",
    "        peer_pub_dh = conn.recv()\n",
    "        peer_signature_dsa = conn.recv()\n",
    "        peer_pub_dsa.verify(peer_signature_dsa, peer_pub_dh, hashes.SHA256())\n",
    "        print('DSA_OK')\n",
    "    except InvalidSignature:\n",
    "        print('DSA_FAIL')\n",
    "\n",
    "    # shared_key calculation\n",
    "    peer_pub_key = serialization.load_pem_public_key(\n",
    "                    peer_pub_dh,\n",
    "                    backend=default_backend())\n",
    "    shared_key = pk_dh.exchange(peer_pub_key)\n",
    "\n",
    "    # confirmation\n",
    "    my_tag = hashs(bytes(shared_key))\n",
    "    conn.send(my_tag)\n",
    "    peer_tag = conn.recv()\n",
    "    if my_tag == peer_tag:\n",
    "        print('DH_OK')\n",
    "        return my_tag\n",
    "    else:\n",
    "        print('DH_FAIL')\n"
   ]
  },
  {
   "cell_type": "markdown",
   "metadata": {},
   "source": [
    "Para realizar a comunicação, primeiramente o agente **Emitter** gera uma chave privada, a respetica chave pública e envia-a ao agente **Bob** que procede de forma análoga.\n",
    "Seguidamente ambos os agentes computam a chave partilhada e usam um MAC para confirmar a autenticidade da chave e então começar a comunicação utilizando a cifra **AES** no modo **CFB** citada acima."
   ]
  },
  {
   "cell_type": "code",
   "execution_count": 4,
   "metadata": {},
   "outputs": [],
   "source": [
    "message_size = 2 ** 10\n",
    "\n",
    "\n",
    "def Emitter(conn):\n",
    "\n",
    "    key = dh_dsa(conn)\n",
    "    # Mensagem a ser enviada\n",
    "    inputs = io.BytesIO(bytes('1' * message_size, 'utf-8'))\n",
    "\n",
    "    # nonce para a cifragem\n",
    "    nonce = get_nonce()\n",
    "\n",
    "    # Cifra\n",
    "    cipher = Cipher(algorithms.AES(key), modes.CFB(nonce),\n",
    "                    backend=default_backend()).encryptor()\n",
    "\n",
    "    # HMAC\n",
    "    mac = my_mac(key)\n",
    "\n",
    "    conn.send(nonce)  # Envio do nonce\n",
    "    buffer = bytearray(32)  # Buffer onde vão ser lidos os blocos\n",
    "\n",
    "    # lê, cifra e envia sucessivos blocos do input\n",
    "    try:\n",
    "        while inputs.readinto(buffer):\n",
    "            ciphertext = cipher.update(bytes(buffer))\n",
    "            mac.update(ciphertext)\n",
    "            conn.send((ciphertext, mac.copy().finalize()))\n",
    "\n",
    "        conn.send((cipher.finalize(), mac.finalize()))  # envia a finalização\n",
    "    except Exception as err:\n",
    "        print(\"Erro no emissor: {0}\".format(err))\n",
    "\n",
    "    inputs.close()  # fecha a 'input stream'\n",
    "    conn.close()  # fecha a conexão\n"
   ]
  },
  {
   "cell_type": "code",
   "execution_count": 5,
   "metadata": {},
   "outputs": [],
   "source": [
    "def Receiver(conn):\n",
    "    # Acordo de chaves DH e assinatura DSA\n",
    "    key = dh_dsa(conn)\n",
    "\n",
    "    # Inicializa um output stream para receber o texto decifrado\n",
    "    outputs = io.BytesIO()\n",
    "\n",
    "    # Recebe o nonce\n",
    "    nonce = conn.recv()\n",
    "\n",
    "    # Cifra\n",
    "    cipher = Cipher(algorithms.AES(key), modes.CFB(nonce),\n",
    "                    backend=default_backend()).decryptor()\n",
    "\n",
    "    # HMAC\n",
    "    mac = my_mac(key)\n",
    "\n",
    "    # operar a cifra: ler da conexão um bloco, autenticá-lo, decifrá-lo e escrever o resultado no 'stream' de output\n",
    "    try:\n",
    "        while True:\n",
    "            try:\n",
    "                buffer, tag = conn.recv()\n",
    "                ciphertext = bytes(buffer)\n",
    "                mac.update(ciphertext)\n",
    "                if tag != mac.copy().finalize():\n",
    "                    raise InvalidSignature(\"erro no bloco intermédio\")\n",
    "                outputs.write(cipher.update(ciphertext))\n",
    "                if not buffer:\n",
    "                    if tag != mac.finalize():\n",
    "                        raise InvalidSignature(\"erro na finalização\")\n",
    "                    outputs.write(cipher.finalize())\n",
    "                    break\n",
    "\n",
    "            except InvalidSignature as err:\n",
    "                raise Exception(\"autenticação do ciphertext ou metadados: {}\".format(err))\n",
    "        print(outputs.getvalue())  # verificar o resultado\n",
    "\n",
    "    except Exception as err:\n",
    "        print(\"Erro no receptor: {0}\".format(err))\n",
    "\n",
    "    outputs.close()  # fechar 'stream' de output\n",
    "    conn.close()  # fechar a conexão\n"
   ]
  },
  {
   "cell_type": "code",
   "execution_count": 6,
   "metadata": {},
   "outputs": [
    {
     "name": "stdout",
     "output_type": "stream",
     "text": [
      "DSA_OK\n",
      "DSA_OK\n",
      "DH_OK\n",
      "DH_OK\n",
      "b'1111111111111111111111111111111111111111111111111111111111111111111111111111111111111111111111111111111111111111111111111111111111111111111111111111111111111111111111111111111111111111111111111111111111111111111111111111111111111111111111111111111111111111111111111111111111111111111111111111111111111111111111111111111111111111111111111111111111111111111111111111111111111111111111111111111111111111111111111111111111111111111111111111111111111111111111111111111111111111111111111111111111111111111111111111111111111111111111111111111111111111111111111111111111111111111111111111111111111111111111111111111111111111111111111111111111111111111111111111111111111111111111111111111111111111111111111111111111111111111111111111111111111111111111111111111111111111111111111111111111111111111111111111111111111111111111111111111111111111111111111111111111111111111111111111111111111111111111111111111111111111111111111111111111111111111111111111111111111111111111111111111111111111111111111111111111111111111111111111111111111111'\n"
     ]
    }
   ],
   "source": [
    "BiConn(Emitter, Receiver, timeout=30).auto()"
   ]
  }
 ],
 "metadata": {
  "kernelspec": {
   "display_name": "Python 3",
   "language": "python",
   "name": "python3"
  },
  "language_info": {
   "codemirror_mode": {
    "name": "ipython",
    "version": 3
   },
   "file_extension": ".py",
   "mimetype": "text/x-python",
   "name": "python",
   "nbconvert_exporter": "python",
   "pygments_lexer": "ipython3",
   "version": "3.7.6"
  }
 },
 "nbformat": 4,
 "nbformat_minor": 2
}
