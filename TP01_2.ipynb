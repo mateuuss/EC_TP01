{
 "cells": [
  {
   "cell_type": "markdown",
   "metadata": {},
   "source": [
    "\n",
    "\n",
    "**GRUPO 16 Exercício 2**\n",
    "\n",
    "Para a realização deste exercício, foi utilizado os módulos BiConn.py e Auxs.py encontrados no material da disciplina e foi utilizado como base o script disponibilizado também no material, tal como o exercício 1 deste trabalho.\n",
    "Inicialmente apenas é reutilizada a a o esquema de assinatura ECDSA, foi reutilizada a função para gerar nonces aleatórios e garantir que estes nonces não tenham sido utilizados anteriormente.\n",
    "É inicializada também uma curva Eliptica."
   ]
  },
  {
   "cell_type": "code",
   "execution_count": 32,
   "metadata": {},
   "outputs": [],
   "source": [
    "import os\n",
    "import io\n",
    "from cryptography.hazmat.backends import default_backend\n",
    "from cryptography.hazmat.primitives import hashes, hmac, serialization\n",
    "from cryptography.hazmat.primitives.asymmetric import dh, dsa, ec\n",
    "from cryptography.hazmat.primitives.ciphers.aead import ChaCha20Poly1305\n",
    "from cryptography.exceptions import *\n",
    "from BiConn import BiConn\n",
    "from Auxs import hashs\n",
    "\n",
    "#lista de nonces\n",
    "nonce_list = list()\n",
    "\n",
    "\n",
    "# Gerar um nonce\n",
    "def get_nonce(b):\n",
    "\n",
    "    nonce = os.urandom(b)\n",
    "\n",
    "    while nonce in nonce_list:\n",
    "        nonce = os.urandom(b)\n",
    "    nonce_list.append(nonce)\n",
    "\n",
    "    return nonce\n",
    "\n",
    "#gerar uma curva\n",
    "default_curve = ec.SECP256R1  # curva\n",
    "\n"
   ]
  },
  {
   "cell_type": "markdown",
   "metadata": {},
   "source": [
    "São gerados os parâmetros para o acordo de chave Diffie-Hellman através de Curvas Elipticas(ECDH),\n",
    "e a autenticação dos agentes através do esquema de assinaturas ECDSA."
   ]
  },
  {
   "cell_type": "code",
   "execution_count": 33,
   "metadata": {},
   "outputs": [],
   "source": [
    "def ECDH(conn):\n",
    "    # agreement\n",
    "    pk_ecdh = ec.generate_private_key(default_curve, default_backend())  # ao gerar a chave privada, recebe como argumento a curva definida\n",
    "    pub_ecdh = pk_ecdh.public_key().public_bytes(  #gera a chave publica através da privada e transforma-a de objecto para bytes \n",
    "        encoding=serialization.Encoding.PEM,\n",
    "        format=serialization.PublicFormat.SubjectPublicKeyInfo)\n",
    "\n",
    "    # gerar as chaves privada e pública do protocolo de chaves ECDSA\n",
    "    pk_ecdsa = ec.generate_private_key(default_curve, default_backend())\n",
    "    pub_dsa = pk_ecdsa.public_key().public_bytes(\n",
    "       encoding=serialization.Encoding.PEM,\n",
    "       format=serialization.PublicFormat.SubjectPublicKeyInfo)\n",
    "\n",
    "    # envia a chave pública\n",
    "    conn.send(pub_dsa)\n",
    "\n",
    "    # cálculo da assinatura\n",
    "    signature = pk_ecdsa.sign(pub_ecdh, ec.ECDSA(hashes.SHA256()))  # ECDSA recebe como argumento a hash256\n",
    "\n",
    "    peer_pub_dsa = serialization.load_pem_public_key(\n",
    "        conn.recv(),\n",
    "        backend=default_backend())\n",
    "\n",
    "    conn.send(pub_ecdh)\n",
    "    conn.send(signature)\n",
    "\n",
    "    # ASSINAR\n",
    "\n",
    "    try:\n",
    "        peer_pub = conn.recv()\n",
    "        sig = conn.recv()\n",
    "        peer_pub_dsa.verify(sig, peer_pub, ec.ECDSA(hashes.SHA256()))\n",
    "        print(\"ok ECDH\")\n",
    "    except InvalidSignature:\n",
    "        print(\"fail ECDH\")\n",
    "\n",
    "    # shared_key calculation\n",
    "    peer_pub_key = serialization.load_pem_public_key(\n",
    "        peer_pub,\n",
    "        backend=default_backend())\n",
    "    shared_key = pk_ecdh.exchange(ec.ECDH(), peer_pub_key)  # em vez de se trocar apenas a chave, tambem se troca ECDH\n",
    "\n",
    "    # confirmation\n",
    "    my_tag = hashs(bytes(shared_key))\n",
    "    conn.send(my_tag)\n",
    "    peer_tag = conn.recv()\n",
    "    if my_tag == peer_tag:\n",
    "        print('OK ECDSA')\n",
    "        return my_tag\n",
    "    else:\n",
    "        print('FAIL ECDSA')\n",
    "\n"
   ]
  },
  {
   "cell_type": "markdown",
   "metadata": {},
   "source": [
    "De forma a encriptar a comunicação entre o emissor e recetor foi utilizada a cifra **ChaCha20Poly1305** tal como indicada no enunciado, sendo que esta cifra tem a particularidade de ter incorporada um MAC para garantir autenticidade da mensagem, e esse MAC é o **Poly1305** e a cifra é **ChaCha20**, mas neste caso a biblioteca cryptography permite a utilização de uma combinação implicita de ambos, de notar que esta é umas das melhores alternativas ao **AES**, utlizado no exercício anterior."
   ]
  },
  {
   "cell_type": "code",
   "execution_count": 34,
   "metadata": {},
   "outputs": [],
   "source": [
    "message_size = 2 ** 10\n",
    "\n",
    "\n",
    "def Emitter(conn):\n",
    "    # Acordo de chaves ECDH e assinatura ECDSA\n",
    "    key = ECDH(conn)\n",
    "\n",
    "    # Mensagem\n",
    "    inputs = io.BytesIO(bytes('1' * message_size, 'utf-8'))\n",
    "\n",
    "    chacha = ChaCha20Poly1305(key)\n",
    "    aad = b\"HELLOWORLD\"\n",
    "\n",
    "    buffer = bytearray(32)  # Buffer onde vão ser lidos os blocos\n",
    "\n",
    "    # lê, cifra e envia sucessivos blocos do input\n",
    "    c = 0\n",
    "    try:\n",
    "        while inputs.readinto(buffer):\n",
    "            nonce = get_nonce(12)\n",
    "            conn.send(nonce)\n",
    "            cipher = chacha.encrypt(nonce, bytes(buffer), aad)\n",
    "            conn.send(cipher)\n",
    "\n",
    "        conn.send(nonce)\n",
    "        conn.send(b'')\n",
    "    except Exception as err:\n",
    "        print(\"Erro no emissor: {0}\".format(err))\n",
    "\n",
    "    inputs.close()  # fecha a 'input stream'\n",
    "    conn.close()  # fecha a conexão\n"
   ]
  },
  {
   "cell_type": "code",
   "execution_count": 35,
   "metadata": {},
   "outputs": [],
   "source": [
    "def Receiver(conn):\n",
    "    # Acordo de chaves DH e assinatura DSA\n",
    "    key = ECDH(conn)\n",
    "\n",
    "    # Inicializa um output stream para receber o texto decifrado\n",
    "    outputs = io.BytesIO()\n",
    "\n",
    "    chacha = ChaCha20Poly1305(key)\n",
    "    aad = b\"HELLOWORLD\"\n",
    "    # operar a cifra: ler da conexão um bloco, autenticá-lo, decifrá-lo e escrever o resultado no 'stream' de output\n",
    "    try:\n",
    "        while True:\n",
    "            try:\n",
    "                nonce = conn.recv()\n",
    "                buffer = conn.recv()\n",
    "                if not buffer:\n",
    "                    outputs.write(ct)\n",
    "                    break\n",
    "                ciphertext = bytes(buffer)\n",
    "                ct = chacha.decrypt(nonce, ciphertext, aad)\n",
    "                outputs.write(ct)\n",
    "\n",
    "            except InvalidSignature as err:\n",
    "                raise Exception(\"autenticação do ciphertext ou metadados: {}\".format(err))\n",
    "        print(outputs.getvalue())  # verificar o resultado\n",
    "\n",
    "    except Exception as err:\n",
    "        print(\"Erro no receptor: {0}\".format(err))\n",
    "\n",
    "    outputs.close()  # fechar 'stream' de output\n",
    "    conn.close()  # fechar a conexão"
   ]
  },
  {
   "cell_type": "code",
   "execution_count": 36,
   "metadata": {},
   "outputs": [
    {
     "name": "stdout",
     "output_type": "stream",
     "text": [
      "ok ECDH\n",
      "ok ECDH\n",
      "OK ECDSA\n",
      "OK ECDSA\n",
      "b'111111111111111111111111111111111111111111111111111111111111111111111111111111111111111111111111111111111111111111111111111111111111111111111111111111111111111111111111111111111111111111111111111111111111111111111111111111111111111111111111111111111111111111111111111111111111111111111111111111111111111111111111111111111111111111111111111111111111111111111111111111111111111111111111111111111111111111111111111111111111111111111111111111111111111111111111111111111111111111111111111111111111111111111111111111111111111111111111111111111111111111111111111111111111111111111111111111111111111111111111111111111111111111111111111111111111111111111111111111111111111111111111111111111111111111111111111111111111111111111111111111111111111111111111111111111111111111111111111111111111111111111111111111111111111111111111111111111111111111111111111111111111111111111111111111111111111111111111111111111111111111111111111111111111111111111111111111111111111111111111111111111111111111111111111111111111111111111111111111111111111111111111111111111111111111111111'\n"
     ]
    }
   ],
   "source": [
    "BiConn(Emitter, Receiver, timeout=30).auto()"
   ]
  }
 ],
 "metadata": {
  "kernelspec": {
   "display_name": "Python 3",
   "language": "python",
   "name": "python3"
  },
  "language_info": {
   "codemirror_mode": {
    "name": "ipython",
    "version": 3
   },
   "file_extension": ".py",
   "mimetype": "text/x-python",
   "name": "python",
   "nbconvert_exporter": "python",
   "pygments_lexer": "ipython3",
   "version": "3.7.6"
  }
 },
 "nbformat": 4,
 "nbformat_minor": 2
}
